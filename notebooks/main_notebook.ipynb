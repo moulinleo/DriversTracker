{
 "cells": [
  {
   "cell_type": "code",
   "execution_count": null,
   "metadata": {},
   "outputs": [],
   "source": [
    "%load_ext autoreload\n",
    "%autoreload 2"
   ]
  },
  {
   "cell_type": "code",
   "execution_count": null,
   "metadata": {},
   "outputs": [],
   "source": [
    "import warnings\n",
    "warnings.filterwarnings(action=\"ignore\")\n",
    "\n",
    "import pandas as pd \n",
    "import dask.dataframe as dd \n",
    "import sys\n",
    "import os \n",
    "sys.path.append('..')"
   ]
  },
  {
   "cell_type": "code",
   "execution_count": null,
   "metadata": {},
   "outputs": [],
   "source": [
    "# Arguemnt to speed up the notebook and only show the results (very little computations). \n",
    "# This is to avoid long computations when running all the notebook\n",
    "fast_notebook = True"
   ]
  },
  {
   "cell_type": "markdown",
   "metadata": {},
   "source": [
    "# Data Loading"
   ]
  },
  {
   "cell_type": "code",
   "execution_count": null,
   "metadata": {},
   "outputs": [],
   "source": [
    "from src.data_loading import load_data_json, load_data_csv"
   ]
  },
  {
   "cell_type": "code",
   "execution_count": null,
   "metadata": {},
   "outputs": [],
   "source": [
    "# Loading JSON FILE\n",
    "dask_zones_bag = load_data_json('../dataset/zones.json', lib='dask')"
   ]
  },
  {
   "cell_type": "code",
   "execution_count": null,
   "metadata": {},
   "outputs": [],
   "source": [
    "# Load the GPS DRIVERS CSV File\n",
    "drivers_gps_dask_df = load_data_csv('../dataset/drivers/drivers.csv', lib='dask')\n",
    "\n",
    "# How big is the GPS file?\n",
    "total_rows = drivers_gps_dask_df.shape[0].compute()\n",
    "unique_drivers = drivers_gps_dask_df['driver'].nunique().compute()\n",
    "print(f\"Total Rows : {total_rows}\")\n",
    "print(f\"Unique Drivers : {unique_drivers}\")"
   ]
  },
  {
   "cell_type": "markdown",
   "metadata": {},
   "source": [
    "# Data Cleaning"
   ]
  },
  {
   "cell_type": "code",
   "execution_count": null,
   "metadata": {},
   "outputs": [],
   "source": [
    "from src.data_cleaning import data_cleaning"
   ]
  },
  {
   "cell_type": "code",
   "execution_count": null,
   "metadata": {},
   "outputs": [],
   "source": [
    "drivers_gps_dask_df = data_cleaning(drivers_gps_dask_df, print_=False)\n",
    "\n"
   ]
  },
  {
   "cell_type": "markdown",
   "metadata": {},
   "source": [
    "# Data Processing"
   ]
  },
  {
   "cell_type": "code",
   "execution_count": null,
   "metadata": {},
   "outputs": [],
   "source": [
    "from src.data_processing import polygon_conversion\n",
    "from src.data_processing import create_geodataframe\n",
    "from src.data_processing import create_unique_drivers"
   ]
  },
  {
   "cell_type": "code",
   "execution_count": null,
   "metadata": {},
   "outputs": [],
   "source": [
    "drivers_dask_df = create_unique_drivers(drivers_gps_dask_df, save_flag=False)"
   ]
  },
  {
   "cell_type": "markdown",
   "metadata": {},
   "source": [
    "## Extract Polygons"
   ]
  },
  {
   "cell_type": "code",
   "execution_count": null,
   "metadata": {},
   "outputs": [],
   "source": [
    "# Extract Polygons\n",
    "zones_dask_df = polygon_conversion(dask_zones_bag)"
   ]
  },
  {
   "cell_type": "markdown",
   "metadata": {},
   "source": [
    "## Create GeoDataFrame"
   ]
  },
  {
   "cell_type": "code",
   "execution_count": null,
   "metadata": {},
   "outputs": [],
   "source": [
    "# Create Zone GeoDataFrame\n",
    "zones_geodataframe = create_geodataframe(zones_dask_df)"
   ]
  },
  {
   "cell_type": "markdown",
   "metadata": {},
   "source": [
    "# Data Visualization"
   ]
  },
  {
   "cell_type": "markdown",
   "metadata": {},
   "source": [
    "## Maps"
   ]
  },
  {
   "cell_type": "code",
   "execution_count": null,
   "metadata": {},
   "outputs": [],
   "source": [
    "from src.geo_visualization import compute_mean_coordinates, select_specific_driver, create_folium_map, draw_gps_dots_and_lines, draw_zones_on_map\n",
    "\n",
    "# Create Zone GeoDataFrame\n",
    "zones_geodataframe = create_geodataframe(zones_dask_df)\n",
    "\n",
    "# Assuming zones_geodataframe, drivers_gps_dask_df are already defined\n",
    "mean_latitude, mean_longitude = compute_mean_coordinates(zones_geodataframe)\n",
    "\n",
    "# Select a specific driver and draw \n",
    "driver_id = 'fff76584'\n",
    "specific_driver_df, start_location = select_specific_driver(drivers_gps_dask_df, driver_id)\n",
    "\n",
    "# Create a Folium map object with mean_latitude and mean_longitude\n",
    "oMap = create_folium_map(mean_latitude, mean_longitude)\n",
    "\n",
    "# Draw zones on the Folium map\n",
    "oMap = draw_zones_on_map(zones_geodataframe, oMap)\n",
    "\n",
    "# Draw GPS dots and lines on the Folium map for the specific driver\n",
    "oMap = draw_gps_dots_and_lines(specific_driver_df, oMap)\n",
    "oMap"
   ]
  },
  {
   "cell_type": "markdown",
   "metadata": {},
   "source": [
    "### Load Data previously computed"
   ]
  },
  {
   "cell_type": "code",
   "execution_count": null,
   "metadata": {},
   "outputs": [],
   "source": [
    "from_intermediate_results = True \n",
    "intermediate_results_path = '../intermediate_results/'\n",
    " \n",
    "# Sort by timestamp \n",
    "def timestamp_sort(df):\n",
    "    return df.sort_values(by='timestamp')\n",
    "\n",
    "if from_intermediate_results:\n",
    "    # Reload the Pandas Dataframes\n",
    "    drivers_gps_pandas_df = pd.read_parquet(os.path.join(intermediate_results_path,'drivers_gps_pandas_df/drivers_gps_pandas_df.parquet'))\n",
    "    drivers_gps_dask_df = dd.from_pandas(drivers_gps_pandas_df, npartitions=4)\n",
    "    # Sort values by timestamp and driver\n",
    "    drivers_gps_dask_df = drivers_gps_dask_df.groupby('driver').apply(timestamp_sort, meta=drivers_gps_dask_df.compute())\n",
    "    \n",
    "    # Pandas save\n",
    "    drivers_pandas_df = pd.read_parquet(os.path.join(intermediate_results_path,'drivers_pandas_df/drivers_pandas_df.parquet'))\n",
    "    drivers_dask_df = dd.from_pandas(drivers_pandas_df, npartitions=4)\n",
    "    drivers_dask_df = drivers_dask_df.sort_values(by=['driver'])\n",
    "    \n",
    "    # Zones\n",
    "    zones_pandas_df = pd.read_csv(os.path.join(intermediate_results_path,'zones_pandas_df/zones_pandas_df.csv')) \n",
    "    zones_dask_df = dd.from_pandas(zones_pandas_df, npartitions=4)\n",
    "else:\n",
    "    pass"
   ]
  },
  {
   "cell_type": "markdown",
   "metadata": {},
   "source": [
    "## Heatmap"
   ]
  },
  {
   "cell_type": "code",
   "execution_count": null,
   "metadata": {},
   "outputs": [],
   "source": [
    "from src.geo_visualization import create_heatmap"
   ]
  },
  {
   "cell_type": "code",
   "execution_count": null,
   "metadata": {},
   "outputs": [],
   "source": [
    "m = create_heatmap(drivers_gps_pandas_df)\n",
    "m"
   ]
  },
  {
   "cell_type": "markdown",
   "metadata": {},
   "source": [
    "# Analysis"
   ]
  },
  {
   "cell_type": "markdown",
   "metadata": {},
   "source": [
    "## Computations\n",
    "This part takes a long time to run. It is advised to read the already computed parquet files instead."
   ]
  },
  {
   "cell_type": "code",
   "execution_count": null,
   "metadata": {},
   "outputs": [],
   "source": [
    "from src.data_processing import process_drivers_gps_data, compute_driver_stats, compute_driver_stats_dask, iterative_process_zones_id_gps, determine_zone_id_dask_geo, compute_mean_time_zone, count_unique_drivers_per_zone"
   ]
  },
  {
   "cell_type": "code",
   "execution_count": null,
   "metadata": {},
   "outputs": [],
   "source": [
    "# COMPUTING DISTANCE AND SPEED BETWEEN EACH GPS VALUE => PANDA METHOD (Takes 230 seconds)\n",
    "\n",
    "# Notes : Impossible to use Dask here because we need a sequential work to have the N and N-1 record.\n",
    "#         Parallelism seems useless here. To be confirmed...\n",
    "\n",
    "if not fast_notebook: \n",
    "    drivers_gps_dask_df = process_drivers_gps_data(drivers_gps_dask_df, drivers_dask_df)"
   ]
  },
  {
   "cell_type": "code",
   "execution_count": null,
   "metadata": {},
   "outputs": [],
   "source": [
    "# COMPUTING MEAN SPEED AND TOTAL DISTANCE FOR EACH DRIVERS => PANDAS  #\n",
    "#######################################################################\n",
    "\n",
    "# 2024-01-12 - +- 1500 seconds ...\n",
    "if not fast_notebook: \n",
    "    drivers_pandas_df = compute_driver_stats(drivers_gps_pandas_df, drivers_pandas_df, drivers_dask_df, save_flag=False)"
   ]
  },
  {
   "cell_type": "code",
   "execution_count": null,
   "metadata": {},
   "outputs": [],
   "source": [
    "# COMPUTING MEAN SPEED AND TOTAL DISTANCE FOR EACH DRIVERS => DASK    #\n",
    "#######################################################################\n",
    "\n",
    "# 2024-01-12 - Cell execution time : 71.882 seconds, which is 20 times faster than the Pandas method\n",
    "if not fast_notebook: \n",
    "    drivers_dask_df = compute_driver_stats_dask(drivers_gps_dask_df, save_flag=False)"
   ]
  },
  {
   "cell_type": "code",
   "execution_count": null,
   "metadata": {},
   "outputs": [],
   "source": [
    "# DETERMINE ZONE ID FOR EACH GPS VALUE. ITERATIVE METHOD WITH GEODATAFRAMES AND R-TREE SPATIAL INDEX #\n",
    "######################################################################################################\n",
    "\n",
    "# 2024-01-06 - Cell execution time : 53456.204 seconds => +- 15 hours\n",
    "\n",
    "# Notes : This was very long to compute. The result is saved in 3 differents formats for further use.\n",
    "#         So this cell is desactivated and replaced by the loading of the saved file.\n",
    "#         This is usefull to compare with other method like Dask or Sparx.\n",
    "\n",
    "if not fast_notebook: \n",
    "    gdf_drivers = iterative_process_zones_id_gps(drivers_gps_pandas_df, zones_geodataframe)"
   ]
  },
  {
   "cell_type": "code",
   "execution_count": null,
   "metadata": {},
   "outputs": [],
   "source": [
    "# DETERMINE ZONE ID FOR EACH GPS VALUE. PARALLEL METHOD WITH DASK & GEOPANDAS #\n",
    "###############################################################################\n",
    "\n",
    "# 2024-01-12 - Cell execution time : 875.037 seconds => +- 15 min\n",
    "if not fast_notebook: \n",
    "    drivers_gps_dask_df = determine_zone_id_dask_geo(drivers_gps_dask_df, zones_geodataframe, save_flag=False)"
   ]
  },
  {
   "cell_type": "code",
   "execution_count": null,
   "metadata": {},
   "outputs": [],
   "source": [
    "# COMPUTING MEAN TIME ON ZONE AND FAVORITE ZONE => DASK    #\n",
    "############################################################\n",
    "\n",
    "# 2024-01-12 - Cell execution time : 472.539 seconds\n",
    "if not fast_notebook: \n",
    "    drivers_pandas_df = compute_mean_time_zone(drivers_gps_dask_df, save_flag=False)"
   ]
  },
  {
   "cell_type": "code",
   "execution_count": null,
   "metadata": {},
   "outputs": [],
   "source": [
    "# COMPUTING UNIQUE DRIVERS PER ZONE   #\n",
    "#######################################\n",
    "\n",
    "# 2024-01-13 - \n",
    "\n",
    "# Total GPS Count: 3949761\n",
    "# Count zone_id = -1 : 129870\n",
    "# The total is OK !!!\n",
    "if not fast_notebook:   \n",
    "    count_unique_drivers_per_zone(drivers_gps_pandas_df, drivers_gps_dask_df, zones_geodataframe, save_flag=False)"
   ]
  },
  {
   "cell_type": "markdown",
   "metadata": {},
   "source": [
    "## Visualizations"
   ]
  },
  {
   "cell_type": "code",
   "execution_count": null,
   "metadata": {},
   "outputs": [],
   "source": [
    "from src.visualization_analysis import *"
   ]
  },
  {
   "cell_type": "code",
   "execution_count": null,
   "metadata": {},
   "outputs": [],
   "source": [
    "# Plot the distribution of mean speeds\n",
    "plot_mean_speed_distribution(drivers_pandas_df)\n",
    "    "
   ]
  },
  {
   "cell_type": "code",
   "execution_count": null,
   "metadata": {},
   "outputs": [],
   "source": [
    "# Plot the distribution of total distances traveled\n",
    "plot_total_distance_distribution(drivers_pandas_df)\n",
    "\n"
   ]
  },
  {
   "cell_type": "code",
   "execution_count": null,
   "metadata": {},
   "outputs": [],
   "source": [
    "# Plot the distribution of GPS counts\n",
    "plot_gps_count_distribution(drivers_pandas_df)\n",
    "    "
   ]
  },
  {
   "cell_type": "code",
   "execution_count": null,
   "metadata": {},
   "outputs": [],
   "source": [
    "# Plot the relationship between mean speed and total distance\n",
    "plot_speed_distance_relationship(drivers_pandas_df)\n",
    "    "
   ]
  },
  {
   "cell_type": "code",
   "execution_count": null,
   "metadata": {},
   "outputs": [],
   "source": [
    "# Plot the distribution of favorite zones by time spent\n",
    "plot_favorite_zone_by_time(drivers_pandas_df)\n",
    "    "
   ]
  },
  {
   "cell_type": "code",
   "execution_count": null,
   "metadata": {},
   "outputs": [],
   "source": [
    "# Plot the distribution of favorite zones by number of records\n",
    "plot_favorite_zone_by_values(drivers_pandas_df)\n",
    "    "
   ]
  },
  {
   "cell_type": "code",
   "execution_count": null,
   "metadata": {},
   "outputs": [],
   "source": [
    "# Plot the number of GPS lines per zone\n",
    "plot_gps_count_by_zone(zones_pandas_df)\n",
    "    "
   ]
  },
  {
   "cell_type": "code",
   "execution_count": null,
   "metadata": {},
   "outputs": [],
   "source": [
    "# Plot the number of unique drivers per zone\n",
    "plot_unique_drivers_by_zone(zones_pandas_df)\n",
    "    "
   ]
  },
  {
   "cell_type": "code",
   "execution_count": null,
   "metadata": {},
   "outputs": [],
   "source": [
    "# Plot the distribution of GPS data by hour\n",
    "plot_gps_data_distribution(drivers_gps_pandas_df)"
   ]
  }
 ],
 "metadata": {
  "kernelspec": {
   "display_name": "base",
   "language": "python",
   "name": "python3"
  },
  "language_info": {
   "codemirror_mode": {
    "name": "ipython",
    "version": 3
   },
   "file_extension": ".py",
   "mimetype": "text/x-python",
   "name": "python",
   "nbconvert_exporter": "python",
   "pygments_lexer": "ipython3",
   "version": "3.10.9"
  }
 },
 "nbformat": 4,
 "nbformat_minor": 2
}
